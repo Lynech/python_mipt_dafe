{
 "cells": [
  {
   "cell_type": "markdown",
   "id": "487da553-d858-41c6-aef5-ac7f7e701989",
   "metadata": {
    "tags": []
   },
   "source": [
    "## Задача 1"
   ]
  },
  {
   "cell_type": "markdown",
   "id": "9265fc1c-8bee-427e-a399-9c9a32f4dc6c",
   "metadata": {},
   "source": [
    "Подсчёт количества уникальных символов в строке"
   ]
  },
  {
   "cell_type": "code",
   "execution_count": 42,
   "id": "528a7a7e-152e-40d0-af00-8f9d571e2e69",
   "metadata": {
    "tags": []
   },
   "outputs": [],
   "source": [
    "def unique(string: str) -> int:\n",
    "    \"\"\" Подсчёт количества уникальных символов в строке\n",
    "\n",
    "        Вход:\n",
    "            string: str\n",
    "                исследуемая строка\n",
    "        \n",
    "        Выход:\n",
    "            count: int\n",
    "                количество уникальных символов в строке\n",
    "    \"\"\"\n",
    "    a = set(string)\n",
    "    \n",
    "    return len(a)"
   ]
  },
  {
   "cell_type": "code",
   "execution_count": 43,
   "id": "72047499-9909-4547-afe5-ddd8bb54e226",
   "metadata": {
    "tags": []
   },
   "outputs": [],
   "source": [
    "assert unique(\"aaaaaaaa\") == 1\n",
    "assert unique(\"abab\") == 2\n",
    "assert unique(\"abcd\") == 4"
   ]
  },
  {
   "cell_type": "markdown",
   "id": "a735932b-ecb6-4d0a-9967-75ea47fc6829",
   "metadata": {},
   "source": [
    "## Задача 2 (Сравнение слов)"
   ]
  },
  {
   "cell_type": "markdown",
   "id": "6c5de12e-ca51-4b36-9395-60da5960a089",
   "metadata": {},
   "source": [
    "Вам даны 2 слова: word1 и word2. Проверьте, возможно ли из уникальных букв первого слова составить второе."
   ]
  },
  {
   "cell_type": "code",
   "execution_count": 44,
   "id": "92d1c49b-85a3-4cb6-b942-87327c73ca80",
   "metadata": {
    "tags": []
   },
   "outputs": [],
   "source": [
    "def is_anagram(word1: str, word2: str) -> bool:\n",
    "    \"\"\" Проверка возможности составления слова word2\n",
    "        из букв слова word1\n",
    "\n",
    "        Вход:\n",
    "            word1: str\n",
    "                слово, из букв которого надо составить требуемое слово\n",
    "            word2: str\n",
    "                слово, которое требуется состваить из букв первого слова\n",
    "        \n",
    "        Выход:\n",
    "            is_anagram: bool\n",
    "                Отчёт о возможности составления нужного слова.\n",
    "                True, если слово word2 можно составить \n",
    "                из уникальных букв слова word1. Иначе, False \n",
    "    \"\"\"\n",
    "    word1_set = set(word1)\n",
    "    word2_set = set(word2)\n",
    "    return word2_set.issubset(word1_set)"
   ]
  },
  {
   "cell_type": "code",
   "execution_count": 45,
   "id": "b4749e1c-fba5-4f8c-89c8-1e9a4b3953ef",
   "metadata": {},
   "outputs": [],
   "source": [
    "assert is_anagram(\"abcd\", \"abac\")\n",
    "assert not is_anagram(\"abcde\", \"dl\")"
   ]
  },
  {
   "cell_type": "markdown",
   "id": "b7df19d7-a5e1-4cc9-92bc-02ddffd7da6c",
   "metadata": {},
   "source": [
    "## Задача 3 (Cамая длинная подстрока без повторяющихся символоворигинал)"
   ]
  },
  {
   "cell_type": "markdown",
   "id": "08a0bcd7-6594-418e-a5b4-3f2d90b89778",
   "metadata": {},
   "source": [
    "Вам дана строка s. \n",
    "Найдите длину ДЛИННЕЙШЕЙШЕГО ПОДСЛОВА, \n",
    "в котором нет повторяющихся символов\n",
    "\n",
    "\n",
    "def1:\n",
    "    слово w называется ПОДСЛОВОМ слова s, если\n",
    "    существуют слова x и y, такие что: s = x * w * y,\n",
    "    т.е. x - это префикс слова s, а y - суффикс.\n",
    "\n",
    "def2:\n",
    "    слово, состоящее только из уникальных символов,\n",
    "    будем называть ОСОБЫМ.\n",
    "\n",
    "    \n",
    "Нужно найти длину самого длинного особого подслова"
   ]
  },
  {
   "cell_type": "code",
   "execution_count": 40,
   "id": "48320deb-95dc-4aa3-8f19-4d45b4a67348",
   "metadata": {
    "tags": []
   },
   "outputs": [],
   "source": [
    "def lengthOfLongestSubstring(s: str) -> int:\n",
    "    \"\"\" Подсчёт длины самого длинного подслова\n",
    "        без повторяющихся символов\n",
    "\n",
    "        Вход:\n",
    "            s : str\n",
    "                исходная строка, в которой ищется особое подслово\n",
    "        \n",
    "        Выход:\n",
    "            subs_len: int\n",
    "                длина максимального особого подслова \n",
    "    \"\"\"\n",
    "    set_subwords = set()\n",
    "    for i in range(len(s)):\n",
    "        x = ''\n",
    "        for j in range(i, len(s)):\n",
    "            if s[j] in x:\n",
    "                break\n",
    "            x += s[j]\n",
    "            set_subwords.add(x)\n",
    "    max_str = max(set_subwords, key = lambda item: len(item))\n",
    "    return  len(max_str)"
   ]
  },
  {
   "cell_type": "code",
   "execution_count": 41,
   "id": "40d6c8ff-fb2a-4475-b67e-7d4810e33471",
   "metadata": {},
   "outputs": [],
   "source": [
    "assert lengthOfLongestSubstring('abcabcbb') == 3\n",
    "assert lengthOfLongestSubstring('bbbbb') == 1\n",
    "assert lengthOfLongestSubstring('pwwkew') == 3\n",
    "assert lengthOfLongestSubstring('abcdefghdklmnbv') == 11"
   ]
  },
  {
   "cell_type": "markdown",
   "id": "bb88e8c7-e5d2-44e8-b637-33a4755c8e09",
   "metadata": {},
   "source": [
    "## Задача 4 (Раздача стипендий)"
   ]
  },
  {
   "cell_type": "markdown",
   "id": "c5941773-c2a9-4bd7-8440-85a4e0613280",
   "metadata": {},
   "source": [
    "В университете царит бюрократия и ведётся множество различных списков студентов. За выдающиеся результаты в учёбе и отсутствие выговоров студентов включают в список лучших студентов, а за активную социальную деятельность - в список социально активных студентов. Также ведутся список студентов, получающих плохие оценки, и список студентов, получивших дисциплинарные взыскания. Каждый год студентам этого университета раздаётся стипендия, назначаемая специальной комиссией. При этом члены комиссии выбирают стипендиатов на своё усмотрение, но есть несколько правил:\n",
    "- Все лучшие студенты обязаны получить стипендию\n",
    "- Среди социально активных студентов, которые не являются при этом лучшими, получить стипендию может не больше половины\n",
    "- Среди студентов с дисциплинарными взысканиями стипендию может получить не больше одного человека\n",
    "- Студенты с плохими оценками не могут получить стипендию\n",
    "- Среди студентов, не включенных в списки лучших, худших или социально активных, получить стипендию могут не более трёх человек\n",
    "\n",
    "Ваша задача проверить, соответствует ли предоставленный стипендиальной комиссией список правилам университета.\n",
    "\n",
    "На вход подаются:\n",
    "best_students - список лучших студентов\n",
    "active_students - список социально активных студентов\n",
    "delinquent_students - список студентов с дисциплинарками\n",
    "lagging_students - список отстающих студентов\n",
    "all_students - список всех студентов университета\n",
    "scolarships - список студентов, выдвинутых на получение стипендии\n",
    "\n",
    "Выход:\n",
    "True - если список соответствует правилам\n",
    "False - если список не соответствует правилам"
   ]
  },
  {
   "cell_type": "code",
   "execution_count": 21,
   "id": "a69a673b-270b-41c5-8354-94b994ab3548",
   "metadata": {
    "tags": []
   },
   "outputs": [],
   "source": [
    "def is_scolarship_correct(best_students, active_students, delinquent_studens, lagging_students, all_students, scolarships) -> bool:\n",
    "    best_students = set(best_students) \n",
    "    active_students = set(active_students)\n",
    "    delinquent_studens = set(delinquent_studens)\n",
    "    lagging_students = set(lagging_students)\n",
    "    all_students = set(all_students)\n",
    "    scolarships = set(scolarships)\n",
    "    if(not best_students.issubset(scolarships)):\n",
    "        return False\n",
    "    act_scol = active_students.difference(best_students).intersection(scolarships)\n",
    "    if(2*len(active_students.difference(best_students).intersection(scolarships)) > len(active_students.difference(best_students))):\n",
    "        return False\n",
    "    de_scol = delinquent_studens.intersection(scolarships)\n",
    "    if(len(delinquent_studens.intersection(scolarships)) > 1):\n",
    "        return False\n",
    "    lag_scol = lagging_students.intersection(scolarships)\n",
    "    if(lagging_students.intersection(scolarships)):\n",
    "        return False\n",
    "    common_scol = scolarships.difference(active_students).difference(best_students).difference(delinquent_studens)\n",
    "    if(len(scolarships.difference(active_students).difference(best_students).difference(delinquent_studens)) > 3):\n",
    "        return False\n",
    "    \n",
    "    return True"
   ]
  },
  {
   "cell_type": "code",
   "execution_count": 25,
   "id": "a798010c-0461-41d8-96d6-d58b633919de",
   "metadata": {},
   "outputs": [],
   "source": [
    "# all_students = [\"Орехов Максим\", \"Морозова Мия\", \"Семенов Александр\", \"Горбунов Виктор\", \"Владимиров Фёдор\",\n",
    "#                 \"Любимова Виктория\", \"Иванов Марк\", \"Кузнецова Дарья\", \"Кузнецова Екатерина\", \"Осипов Михаил\",\n",
    "#                 \"Лебедев Александр\", \"Меркулов Артём\", \"Беляева Вера\", \"Дорохов Никита\", \"Власов Владимир\",\n",
    "#                 \"Семенова Мария\", \"Михайлов Савва\", \"Карасев Артём\", \"Мухин Михаил\", \"Белякова Юлия\",\n",
    "#                 \"Судаков Фёдор\", \"Власов Матвей\", \"Суслова Алина\", \"Королева Амелия\", \"Панин Дмитрий\"]\n",
    "\n",
    "# best_students = [\"Любимова Виктория\", \"Карасев Артём\", \"Власов Матвей\", \"Панин Дмитрий\"]\n",
    "\n",
    "# active_students = [\"Любимова Виктория\", \"Карасев Артём\", \"Кузнецова Дарья\", \"Кузнецова Екатерина\", \"Осипов Михаил\", \n",
    "#                    \"Лебедев Александр\"]\n",
    "\n",
    "# delinquent_studens = [\"Мухин Михаил\", \"Белякова Юлия\"]\n",
    "\n",
    "# lagging_students = [\"Горбунов Виктор\", \"Владимиров Фёдор\"]\n",
    "\n",
    "# scolarships = [\"Любимова Виктория\", \"Карасев Артём\", \"Власов Матвей\", \"Панин Дмитрий\", \"Кузнецова Екатерина\", \"Судаков Фёдор\"]\n",
    "\n",
    "# assert is_scolarship_correct(best_students, active_students, delinquent_studens, lagging_students, all_students, scolarships)\n",
    "\n",
    "al = [\"1\", \"2\", \"3\", \"4\", \"5\", \"6\", \"7\", \"8\", \"9\", \"10\", \"11\", \"12\", \"13\", \"14\", \"15\", \"16\", \"17\", \"18\", \"19\", \"20\", \"21\", \"22\", \"23\", \"24\", \"25\", \"26\", \"27\", \"28\", \"29\", \"30\"]\n",
    "b = [\"30\", \"29\", \"28\", \"27\"]\n",
    "ac = [\"1\", \"2\", \"3\", \"4\", \"5\", \"6\", \"7\", \"29\", \"28\", \"27\"]\n",
    "de = [\"11\", \"12\", \"13\", \"14\", \"15\"]\n",
    "lag = [\"16\", \"17\", \"18\", \"19\", \"20\"]\n",
    "scol = [\"30\", \"29\", \"28\", \"27\", \"1\", \"2\", \"3\", \"12\", \"21\", \"22\", \"23\"]\n",
    "\n",
    "assert is_scolarship_correct(b, ac, de, lag, al, scol)\n"
   ]
  },
  {
   "cell_type": "markdown",
   "id": "78ecb73a-6bfb-487a-8255-0eaee89634cc",
   "metadata": {},
   "source": [
    "## Задача 5 (Контроль работы)"
   ]
  },
  {
   "cell_type": "markdown",
   "id": "53e048e4-87c4-428b-bab0-fa5cd0aaafbf",
   "metadata": {},
   "source": [
    "Мистер G - ответственный за контроль количества проделанной работы сотрудниками некоторой фирмы.\n",
    "Вся информация хранится в базе данных, с которой работает G.\n",
    "Работа с БД организована запросно-ответным образом. Запросы бывают нескольких типов:\n",
    "\n",
    "    1) Приём нового сотрудника на работу:\n",
    "        $ <id> <ник> +\n",
    "        Идентификационный номер G (как оператор БД) устанавливает сам. \n",
    "        Ник придумывает сам трудоустраивающийся и сообщает вам.\n",
    "        \n",
    "    2) Увольнение сотрудника:\n",
    "        $ <id> <ник> -\n",
    "        \n",
    "    3) Учёт рабочих часов сотрудника:\n",
    "        $ <id> <ник> <число>\n",
    "        \n",
    "    4) Получение статуса работы\n",
    "        $ status\n",
    "        Отчёт имеет вид многосрочного вывода на экран следующей информации:\n",
    "            <id> <ник> <количество отработанных часов>\n",
    "\n",
    "ЗАМЕЧАНИЕ: \n",
    "    в приведённом выше описании знак доллара является приглашением \n",
    "    на ввод и не входит в считываемую вход-строку\n",
    "\n",
    "ГАРАНТИРУЕТСЯ, \n",
    "    что id вводится правильно, \n",
    "    а при приёме и увольнении ошибок в нике быть не может\n",
    "\n",
    "Однако ники некоторых работников настолько сложны, что при попытке\n",
    "учесть их рабочие часы мистер G вводит их ники неправильно.\n",
    "\n",
    "Для регулирования этой проблемы было решено следующее: \n",
    "за каждый такой неправильный ввод начисляется 1 косяк обрабатываемому сотруднику (за слишком сложный ник).\n",
    "Сотрудники, кто имеет 3 и больше косяков подлежат увольнению.\n",
    "\n",
    "Никто не гарантирует, что мистер G не совершает других ошибок при вводе запросов.\n",
    "\n",
    "Ваша задача: написать программу, которая будет корректно обрабатывать запросы мистера G"
   ]
  },
  {
   "cell_type": "code",
   "execution_count": 8,
   "id": "ede11b29-119b-4a63-b157-b0298df238fb",
   "metadata": {},
   "outputs": [
    {
     "ename": "TypeError",
     "evalue": "'dict' object is not callable",
     "output_type": "error",
     "traceback": [
      "\u001b[1;31m---------------------------------------------------------------------------\u001b[0m",
      "\u001b[1;31mTypeError\u001b[0m                                 Traceback (most recent call last)",
      "\u001b[1;32mc:\\Users\\Niyaz\\git_projects\\python_mipt_dafe\\lessons\\lesson5\\sem5_314\\tasks.ipynb Cell 19\u001b[0m line \u001b[0;36m4\n\u001b[0;32m     <a href='vscode-notebook-cell:/c%3A/Users/Niyaz/git_projects/python_mipt_dafe/lessons/lesson5/sem5_314/tasks.ipynb#X24sZmlsZQ%3D%3D?line=38'>39</a>\u001b[0m     \u001b[39mdef\u001b[39;00m \u001b[39m__init__\u001b[39m(\u001b[39mself\u001b[39m):\n\u001b[0;32m     <a href='vscode-notebook-cell:/c%3A/Users/Niyaz/git_projects/python_mipt_dafe/lessons/lesson5/sem5_314/tasks.ipynb#X24sZmlsZQ%3D%3D?line=39'>40</a>\u001b[0m         \u001b[39mself\u001b[39m\u001b[39m.\u001b[39mmain_data \u001b[39m=\u001b[39m \u001b[39mdict\u001b[39m()\n\u001b[1;32m---> <a href='vscode-notebook-cell:/c%3A/Users/Niyaz/git_projects/python_mipt_dafe/lessons/lesson5/sem5_314/tasks.ipynb#X24sZmlsZQ%3D%3D?line=41'>42</a>\u001b[0m db \u001b[39m=\u001b[39m Data_base_my()\n\u001b[0;32m     <a href='vscode-notebook-cell:/c%3A/Users/Niyaz/git_projects/python_mipt_dafe/lessons/lesson5/sem5_314/tasks.ipynb#X24sZmlsZQ%3D%3D?line=42'>43</a>\u001b[0m \u001b[39mwhile\u001b[39;00m \u001b[39mTrue\u001b[39;00m:\n\u001b[0;32m     <a href='vscode-notebook-cell:/c%3A/Users/Niyaz/git_projects/python_mipt_dafe/lessons/lesson5/sem5_314/tasks.ipynb#X24sZmlsZQ%3D%3D?line=43'>44</a>\u001b[0m     string \u001b[39m=\u001b[39m \u001b[39minput\u001b[39m()\n",
      "\u001b[1;32mc:\\Users\\Niyaz\\git_projects\\python_mipt_dafe\\lessons\\lesson5\\sem5_314\\tasks.ipynb Cell 19\u001b[0m line \u001b[0;36m4\n\u001b[0;32m     <a href='vscode-notebook-cell:/c%3A/Users/Niyaz/git_projects/python_mipt_dafe/lessons/lesson5/sem5_314/tasks.ipynb#X24sZmlsZQ%3D%3D?line=38'>39</a>\u001b[0m \u001b[39mdef\u001b[39;00m \u001b[39m__init__\u001b[39m(\u001b[39mself\u001b[39m):\n\u001b[1;32m---> <a href='vscode-notebook-cell:/c%3A/Users/Niyaz/git_projects/python_mipt_dafe/lessons/lesson5/sem5_314/tasks.ipynb#X24sZmlsZQ%3D%3D?line=39'>40</a>\u001b[0m     \u001b[39mself\u001b[39m\u001b[39m.\u001b[39mmain_data \u001b[39m=\u001b[39m \u001b[39mdict\u001b[39;49m()\n",
      "\u001b[1;31mTypeError\u001b[0m: 'dict' object is not callable"
     ]
    }
   ],
   "source": [
    "class employer:\n",
    "    id = 0\n",
    "    name = ''\n",
    "    hours = 0\n",
    "    kosyak = 0\n",
    "    def __init__(self, id, name):\n",
    "        self.id = id\n",
    "        self.name = name\n",
    "        self.hours = 0\n",
    "    def addHours(self, hours):\n",
    "        self.hours += hours\n",
    "    def addKosyak(self):\n",
    "        self.kosyak += 1\n",
    "    def status(self) -> str:\n",
    "        string = str(self.id) + ' ' + self.name + ' ' + str(self.hours)\n",
    "        return string\n",
    "\n",
    "class Data_base_my:\n",
    "    main_data = dict()\n",
    "    def add_employee(self, id, name):\n",
    "        temp = employer(id, name)\n",
    "        self.main_data.update({id: temp})\n",
    "    def fire_employee(self, id):\n",
    "        if id in self.main_data:\n",
    "            self.main_data.pop(id)\n",
    "    def add_hours(self, id, name, hours):\n",
    "        if id in self.main_data:\n",
    "            self.main_data[id].addHours(hours)\n",
    "            if self.main_data[id].name != name:\n",
    "                self.main_data[id].addKosyak()\n",
    "    def get_status(self):\n",
    "        print(60*'v')\n",
    "        for id in self.main_data:\n",
    "            print(self.main_data[id].status())\n",
    "        print(60*'^')\n",
    "    def fire_kosyachnikov(self):\n",
    "        for id in self.main_data:\n",
    "            if self.main_data[id].kosyak >= 3:\n",
    "                self.main_data.pop(id)\n",
    "                break\n",
    "    def __init__(self):\n",
    "        self.main_data = dict()\n",
    "        \n",
    "db = Data_base_my()\n",
    "while True:\n",
    "    string = input()\n",
    "    if(string == 'status'):\n",
    "        db.get_status()\n",
    "        continue\n",
    "    string = string.split()\n",
    "    if(len(string) == 3):\n",
    "        id = string[0]\n",
    "        name = string[1]\n",
    "        operation = string[2]\n",
    "        if operation == '+':\n",
    "            db.add_employee(id, name)\n",
    "        elif operation == '-':\n",
    "            db.fire_employee(id)\n",
    "        elif operation.isdigit():\n",
    "            hour = int(operation)\n",
    "            db.add_hours(id, name, hour)\n",
    "        else:\n",
    "            print(\"mrG wtf?\")\n",
    "    else:\n",
    "        print(\"mrG wtf?\")\n",
    "    db.fire_kosyachnikov()\n"
   ]
  },
  {
   "cell_type": "markdown",
   "id": "22c415a4-4056-4ffa-b928-7480ffd39408",
   "metadata": {},
   "source": [
    "## Задача 6 (Перовод из десятичной системы в Римскую оригинал)"
   ]
  },
  {
   "cell_type": "markdown",
   "id": "6d239a98-8045-40cb-8dde-3ed6e08a5a10",
   "metadata": {},
   "source": [
    "Римская система записи чисел использует следующие 7 символов: 'I', 'V', 'X', 'L', 'C', 'D' и 'M'.\n",
    "\n",
    "Символ | Значение\n",
    "\n",
    "I      |   1\n",
    "\n",
    "V      |   5\n",
    "\n",
    "X      |   10\n",
    "\n",
    "L      |   50\n",
    "\n",
    "C      |   100\n",
    "\n",
    "D      |   500\n",
    "\n",
    "M      |   1000\n",
    "\n",
    "Например, число 2 в Римской системе записывается как 'II',\n",
    "просто приписывание двух единиц рядом.\n",
    "Число 12 записывается как 'XII'. Другими словами это 'X' + 'II'.\n",
    "Число 27 записывается как 'XXVII', что предстваляется как 'XX' + 'V' + 'II'.\n",
    "\n",
    "Римские цифры обычно пишутся от наибольшего к наименьшему слева направо.\n",
    "Однако число 4 это НЕ 'IIII'. Вместо этого число 4 записывается как 'IV'.\n",
    "Поскольку меньшее число стоит перед большим (единица перед пятью), \n",
    "мы вычитаем 1 и получаем 4.\n",
    "Аналогичный принцип применяется для числа 9, которое пишется так: 'IX'.\n",
    "Существует 6 ситуаций, где используется такое вычитание:\n",
    "    1) IV = 4, IX = 9\n",
    "    2) XL = 40, XC = 90\n",
    "    3) CD = 400, CM = 900\n",
    "\n",
    "Ваша задача перевести десятичное число в Римскую систему записи"
   ]
  },
  {
   "cell_type": "code",
   "execution_count": 5,
   "id": "556191fe-38c6-4c23-ab72-88d52d2e6fb2",
   "metadata": {
    "tags": []
   },
   "outputs": [],
   "source": [
    "def intToRoman(num: int) -> str:\n",
    "    \"\"\" Перевод числа из десятичной системы записи в Римскую\n",
    "\n",
    "        Вход:\n",
    "            num: int\n",
    "                натуральное число, которое нужно записать в Римской системе\n",
    "        \n",
    "        Выход:\n",
    "            roman: str\n",
    "                Римская запись входящего числа \n",
    "    \"\"\"\n",
    "    rome = dict({1:'I', 4:'IV', 5:'V', 9:'IX', 10:'X', 40:'XL', 50: 'L', 90:'XC', 100:'C', 400:'CD', 500:'D', 900:'CM', 1000:'M'})\n",
    "\n",
    "    res = ''\n",
    "    res += (num // 1000) * rome[1000]\n",
    "    num %= 1000\n",
    "    res += (num // 900) * rome[900]\n",
    "    num %= 900\n",
    "    res += (num // 500) * rome[500]\n",
    "    num %= 500\n",
    "    res += (num // 400) * rome[400]\n",
    "    num %= 400\n",
    "    res += (num // 100) * rome[100]\n",
    "    num %= 100\n",
    "    res += (num // 90) * rome[90]\n",
    "    num %= 90\n",
    "    res += (num // 50) * rome[50]\n",
    "    num %= 50\n",
    "    res += (num // 40) * rome[40]\n",
    "    num %= 40\n",
    "    res += (num // 10) * rome[10]\n",
    "    num %= 10\n",
    "    res += (num // 9) * rome[9]\n",
    "    num %= 9\n",
    "    res += (num // 5) * rome[5]\n",
    "    num %= 5\n",
    "    res += (num // 4) * rome[4]\n",
    "    num %= 4\n",
    "    res += num * rome[1]\n",
    "    return res"
   ]
  },
  {
   "cell_type": "code",
   "execution_count": 4,
   "id": "05829fd8-9fc6-4773-9243-e80891fdb63f",
   "metadata": {},
   "outputs": [],
   "source": [
    "assert intToRoman(3) == \"III\"\n",
    "assert intToRoman(58) == \"LVIII\"\n",
    "assert intToRoman(1994) == \"MCMXCIV\""
   ]
  }
 ],
 "metadata": {
  "kernelspec": {
   "display_name": "Python 3 (ipykernel)",
   "language": "python",
   "name": "python3"
  },
  "language_info": {
   "codemirror_mode": {
    "name": "ipython",
    "version": 3
   },
   "file_extension": ".py",
   "mimetype": "text/x-python",
   "name": "python",
   "nbconvert_exporter": "python",
   "pygments_lexer": "ipython3",
   "version": "3.11.5"
  }
 },
 "nbformat": 4,
 "nbformat_minor": 5
}
