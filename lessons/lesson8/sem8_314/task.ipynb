{
 "cells": [
  {
   "cell_type": "markdown",
   "metadata": {},
   "source": [
    "# Декораторы"
   ]
  },
  {
   "cell_type": "markdown",
   "metadata": {},
   "source": [
    "# Задача 1: Суммы прогрессий\n",
    "\n",
    "Необходимо реализовать функционал для подсчета суммы первых n + 1 - членов арифметической и геометрической прогрессии с возможностями настройки шага и значения первого члена. n соответствует числу вызовов функции по подсчету суммы. \n",
    "\n",
    "Предполагаемые сценарии использования:\n",
    "\n",
    "```python\n",
    "\n",
    "sum_arithmetic = make_arithmetic_progression_sum(first_member=2, step=0.5)\n",
    "sum_geometric = make_geometric_progression_sum(first_member=1, step=0.5)\n",
    "\n",
    "print(sum_arithmetic())\n",
    "print(sum_arithmetic())\n",
    "print('')\n",
    "print(sum_geometric())\n",
    "print(sum_geometric())\n",
    "```\n",
    "\n",
    "*Вывод*:\n",
    "```console\n",
    "4.5\n",
    "7.5\n",
    "\n",
    "1.5\n",
    "1.75\n",
    "```"
   ]
  },
  {
   "cell_type": "code",
   "execution_count": 1,
   "metadata": {},
   "outputs": [],
   "source": [
    "def make_arithmetic_progression_sum(first_member: float, step: float):\n",
    "    # ваш код\n",
    "    pass\n",
    "\n",
    "\n",
    "def make_geometric_progression_sum(first_member: float, step: float):\n",
    "    # ваш код\n",
    "    pass"
   ]
  },
  {
   "cell_type": "markdown",
   "metadata": {},
   "source": [
    "# Задача 2: Среднее\n",
    "\n",
    "Предположим, что мы занимаемся инвистициями и у нас есть некоторый портфель акций. Каждый день наш портфель приносит нам некоторый доход или убыток. Мы задались целью: каждый день фиксированного периода определять средний доход (или убыток), который мы получаем. С этой целью мы реализовали функцию get_avg(), принимающую на вход значение заработка на сегодняшний день. Наша функция вычисляет среднее в течении определнного фиксированного периода, скажем, 30 дней, после чего обнуляется и начинает вычислять среднее заново, но уже по новым значениям. \n",
    "\n",
    "Также у нас есть друзья инвесторы, которые оценили разработанный нами функционал и хотели бы заполучить свой экземпляр функции get_avg, для подсчета своего дохода в течении интересующего их промежутка времени.\n",
    "\n",
    "Ваша задача: реализовать функционал, для получения произвольного числа независимых функций get_avg(). В момент создания функции сообщается длительность периода расчета среднего, по достижении которого среднее начинает расчитываться заново, а также наш начальный доход. При каждом вызове функции передается число - заработок в текущий день.\n",
    "\n",
    "Предполагаемые сценарии использования:\n",
    "\n",
    "```python\n",
    "\n",
    "get_avg1 = make_averager(accumulation_period=2)\n",
    "print(get_avg1(78))\n",
    "print(get_avg1(-17))\n",
    "print(get_avg1(52))\n",
    "```\n",
    "\n",
    "*Вывод*:\n",
    "```console\n",
    "78.0\n",
    "30.5\n",
    "52.0\n",
    "```"
   ]
  },
  {
   "cell_type": "code",
   "execution_count": 1,
   "metadata": {},
   "outputs": [],
   "source": [
    "# ваш код\n",
    "def make_averager(accumulation_period: int):\n",
    "    avg_sum = 0\n",
    "    counter = 0\n",
    "    def calculate(num: int):\n",
    "        nonlocal avg_sum, counter\n",
    "        if counter == accumulation_period:\n",
    "            counter = 0\n",
    "            avg_sum = 0\n",
    "        avg_sum += num\n",
    "        counter += 1\n",
    "        return avg_sum/counter\n",
    "    return calculate"
   ]
  },
  {
   "cell_type": "code",
   "execution_count": 6,
   "metadata": {},
   "outputs": [
    {
     "name": "stdout",
     "output_type": "stream",
     "text": [
      "78.0\n",
      "30.5\n",
      "52.0\n"
     ]
    }
   ],
   "source": [
    "get_avg1 = make_averager(accumulation_period=2)\n",
    "print(get_avg1(78))\n",
    "print(get_avg1(-17))\n",
    "print(get_avg1(52))"
   ]
  },
  {
   "cell_type": "markdown",
   "metadata": {},
   "source": [
    "# Задача 3: Сбор статистик\n",
    "\n",
    "Предположим, что мы работаем в отделе аналитики некоторой компании. В компании также существуют другие отделы, которые разрабатывают некоторые функции для осуществления сложных вычислений. Также в нашей компании существует отдел планирования, который следит за исполнением сроков реализации той или иной функции, и в случае, если разработка затягивается, начинает торопить разработчиков. В таком случае разработчики пишут медленный код на скорую руку, что расстраивает заказчиков.\n",
    "\n",
    "Наша задача, как аналитиков, собрать статистику по проблемным функциям. Нас интересует количество вызовов функции, а также среднее время выполнения функции. Все статистики собираются в отдельную базу данных - специальный единый словарь. Более того, статистика должна собираться не для всех функций, а только для функций, зарегестрированных в базе данных. Затем эта информация будет передана начальству, чтобы в скорейшее время заняться переписанием долгих и популярных функций.\n",
    "\n",
    "Ваша задача реализовать функционал для регистрации функций в БД и сбора статистик. "
   ]
  },
  {
   "cell_type": "code",
   "execution_count": 22,
   "metadata": {},
   "outputs": [],
   "source": [
    "functions_register = {}\n",
    "\n",
    "import time\n",
    "from random import randint\n",
    "from functools import wraps\n",
    "\n",
    "def register(funk):\n",
    "    if funk not in functions_register:\n",
    "        functions_register[funk] = {\n",
    "            'time_avg' : 0,\n",
    "            'calls_count' : 0\n",
    "        }\n",
    "    return funk\n",
    "\n",
    "\n",
    "def stats(funk):\n",
    "    time_general = 0\n",
    "    @wraps(funk)\n",
    "    def count_time(*args, **kwargs):\n",
    "        nonlocal time_general \n",
    "        t = time.time()\n",
    "        result = funk(*args, **kwargs)\n",
    "        time_general += time.time() - t\n",
    "        if funk in functions_register:\n",
    "            functions_register[funk]['calls_count'] += 1\n",
    "            functions_register[funk]['time_avg'] = (\n",
    "                time_general/functions_register[funk]['calls_count']\n",
    "            )\n",
    "        return result\n",
    "    return count_time\n",
    "\n",
    "@stats\n",
    "@register\n",
    "def do_something(*args):\n",
    "    timer = randint(1, 10)\n",
    "    time.sleep(timer)\n"
   ]
  },
  {
   "cell_type": "code",
   "execution_count": 23,
   "metadata": {},
   "outputs": [
    {
     "name": "stdout",
     "output_type": "stream",
     "text": [
      "None\n",
      "{<function do_something at 0x000001FA0916FB00>: {'time_avg': 3.002067804336548, 'calls_count': 1}}\n",
      "None\n",
      "{<function do_something at 0x000001FA0916FB00>: {'time_avg': 5.002010345458984, 'calls_count': 2}}\n"
     ]
    }
   ],
   "source": [
    "\n",
    "print(do_something())\n",
    "print(functions_register)\n",
    "print(do_something())\n",
    "print(functions_register)"
   ]
  },
  {
   "cell_type": "markdown",
   "metadata": {},
   "source": [
    "# Задача 4: наивный LRU-кэш\n",
    "\n",
    "Представим, что вы являетесь сотрудником департамента оптимизаций некоторой компании, занимающейся разработкой ПО для научных вычислений. Раздел аналитиков предоставил вам исследование, согласно которому значительная часть функций в вашей компании работает очень медленно и должна быть оптимизирована. Более того, согласно исследованию, вызовы этих функций в основном осуществляются с ограниченным множеством аргументов. Для оптимизации этих функций вы решили использовать LRU-кэш:\n",
    "\n",
    "- вы заранее фиксируете размер кэша - памяти, выделенной для хранения результатов вычислений функции;  \n",
    "- в кэше хранится следующая информация: аргументы вызова - результат;  \n",
    "- помимо этого для каждой пары хранится время их последнего вызова;  \n",
    "- в случае достижения объема кэша установленной границы удаляются значения, чьи времена последних вызовов являются самыми старыми;  \n",
    "\n",
    "Для применения данного подхода ко всем проблемным функциям, не переписывая сами функции, вы решили реализовать параметрический декоратор, т.к. для разных функций требуется разный размер кеша.\n",
    "\n",
    "Ваша задача: реализовать описанный декоратор."
   ]
  },
  {
   "cell_type": "code",
   "execution_count": 50,
   "metadata": {},
   "outputs": [],
   "source": [
    "import time\n",
    "\n",
    "def lru_cash(cash_size: int):\n",
    "    def apply_cash(func):\n",
    "        args_info = {}\n",
    "        time_info = {}\n",
    "\n",
    "        def count_cashe(*args, **kwargs):\n",
    "            nonlocal args_info, time_info\n",
    "            key = args + tuple(kwargs.values())\n",
    "            if key in args_info:\n",
    "                time_info[key] = time.time()\n",
    "            else:\n",
    "                if cash_size == len(args_info):\n",
    "                    least = min(time_info, key = lambda x: x[- 1])\n",
    "                    del args_info[least]\n",
    "                    del time_info[least]\n",
    "                args_info[key] = func(*args, **kwargs)\n",
    "                time_info[key] = time.time()\n",
    "\n",
    "            print(args_info)\n",
    "            print(time_info)\n",
    "\n",
    "            return args_info[key]\n",
    "        return count_cashe\n",
    "    return apply_cash\n",
    "\n",
    "\n",
    "@lru_cash(5)\n",
    "def do_something(*args):\n",
    "    timer = randint(0, 2)\n",
    "    time.sleep(timer)\n",
    "    return timer"
   ]
  },
  {
   "cell_type": "code",
   "execution_count": 51,
   "metadata": {},
   "outputs": [
    {
     "name": "stdout",
     "output_type": "stream",
     "text": [
      "{(1,): 1}\n",
      "{(1,): 1698422166.5465205}\n",
      "{(1,): 1, (1, 2, 3): 0}\n",
      "{(1,): 1698422166.5465205, (1, 2, 3): 1698422166.5465205}\n",
      "{(1,): 1, (1, 2, 3): 0}\n",
      "{(1,): 1698422166.5465205, (1, 2, 3): 1698422166.5465205}\n",
      "{(1,): 1, (1, 2, 3): 0, (2,): 2}\n",
      "{(1,): 1698422166.5465205, (1, 2, 3): 1698422166.5465205, (2,): 1698422168.5475986}\n",
      "{(1,): 1, (1, 2, 3): 0, (2,): 2, (3,): 0}\n",
      "{(1,): 1698422166.5465205, (1, 2, 3): 1698422166.5465205, (2,): 1698422168.5475986, (3,): 1698422168.5475986}\n",
      "{(1,): 1, (1, 2, 3): 0, (2,): 2, (3,): 0, (4,): 2}\n",
      "{(1,): 1698422166.5465205, (1, 2, 3): 1698422166.5465205, (2,): 1698422168.5475986, (3,): 1698422168.5475986, (4,): 1698422170.5488336}\n",
      "{(1, 2, 3): 0, (2,): 2, (3,): 0, (4,): 2, (5,): 2}\n",
      "{(1, 2, 3): 1698422166.5465205, (2,): 1698422168.5475986, (3,): 1698422168.5475986, (4,): 1698422170.5488336, (5,): 1698422172.5500824}\n"
     ]
    },
    {
     "data": {
      "text/plain": [
       "2"
      ]
     },
     "execution_count": 51,
     "metadata": {},
     "output_type": "execute_result"
    }
   ],
   "source": [
    "do_something(1)\n",
    "do_something(1, 2, 3)\n",
    "do_something(1)\n",
    "do_something(2)\n",
    "do_something(3)\n",
    "do_something(4)\n",
    "do_something(5)"
   ]
  }
 ],
 "metadata": {
  "kernelspec": {
   "display_name": "Python 3",
   "language": "python",
   "name": "python3"
  },
  "language_info": {
   "codemirror_mode": {
    "name": "ipython",
    "version": 3
   },
   "file_extension": ".py",
   "mimetype": "text/x-python",
   "name": "python",
   "nbconvert_exporter": "python",
   "pygments_lexer": "ipython3",
   "version": "3.11.5"
  }
 },
 "nbformat": 4,
 "nbformat_minor": 2
}
