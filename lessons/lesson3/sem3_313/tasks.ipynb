{
 "cells": [
  {
   "cell_type": "code",
   "execution_count": 34,
   "metadata": {},
   "outputs": [],
   "source": [
    "from typing import Iterable, Any"
   ]
  },
  {
   "cell_type": "markdown",
   "metadata": {},
   "source": [
    "### Разминка: методы через срезы\n",
    "\n",
    "Значительную часть модифицирующих методов списков можно реализовать через срезы. Ваша задача реализовать аналоги методов append(), extend(), insert(), reverse(), используя только срезы."
   ]
  },
  {
   "cell_type": "code",
   "execution_count": 35,
   "metadata": {},
   "outputs": [],
   "source": [
    "def my_append(list_instance: list, x: Any) -> None:\n",
    "    # ВАШ КОД\n",
    "    pass\n",
    "\n",
    "def my_extend(\n",
    "    list_instance: list, expansion: Iterable\n",
    ") -> None:\n",
    "    # ВАШ КОД\n",
    "    pass\n",
    "\n",
    "def my_insert(list_instance: list, i: int) -> None:\n",
    "    # ВАШ КОД\n",
    "    pass\n",
    "\n",
    "def my_reverse(list_instance: list) -> None:\n",
    "    # ВАШ КОД\n",
    "    pass"
   ]
  },
  {
   "cell_type": "markdown",
   "metadata": {},
   "source": [
    "### Задача 1: Сложение\n",
    "\n",
    "На вход подаются два списка, репрезентирующие числа в десятичной системе счисления. Элементы списков - числа от 0 до 9, представляющие значения разрядов числа. Самый левый разряд - самый больший. Т.е. число 123 будет представлено списком [1, 2, 3]. Ваша задача - вычислить сумму переданных чисел и вернуть список, представляюзщий эту сумму. "
   ]
  },
  {
   "cell_type": "code",
   "execution_count": 41,
   "metadata": {},
   "outputs": [],
   "source": [
    "def sum_two_nums(num1: list[int], num2: list[int]) -> list[int]:\n",
    "\n",
    "    a1 = 0\n",
    "    for x in num1:\n",
    "        a1 = a1*10 + x\n",
    "    \n",
    "    a2 = 0\n",
    "    for x in num2:\n",
    "        a2 = a2*10 + x\n",
    "\n",
    "    a3 = a1 + a2\n",
    "\n",
    "    num3 = []\n",
    "    while a3 > 0:\n",
    "        num3.append(a3%10)\n",
    "        a3 //= 10\n",
    "    \n",
    "    num3 = num3[::-1]\n",
    "    \n",
    "    return num3"
   ]
  },
  {
   "cell_type": "markdown",
   "metadata": {},
   "source": [
    "**Тесты:**"
   ]
  },
  {
   "cell_type": "code",
   "execution_count": 42,
   "metadata": {},
   "outputs": [],
   "source": [
    "num1 = [1, 2, 3]\n",
    "num2 = [7, 7]\n",
    "\n",
    "assert sum_two_nums(num1, num2) == [2, 0, 0]\n",
    "assert sum_two_nums(num2, num1) == [2, 0, 0]"
   ]
  },
  {
   "cell_type": "markdown",
   "metadata": {},
   "source": [
    "### Задача 2: Объеденяй и не властвуй\n",
    "\n",
    "На вход подан список intervals, где intervals[ i ] = [$start_i$, $stop_i$]. Объедените все пересекающиеся интервалы и верните список непересекающихся интервалов, покрывающий все интервалы из intervals."
   ]
  },
  {
   "cell_type": "code",
   "execution_count": 206,
   "metadata": {},
   "outputs": [],
   "source": [
    "def merge_intervals(intervals: list[list[int]]) -> list[list[int]]:\n",
    "    intervals.sort(key = lambda row: (row[0], row[1]))\n",
    "    i = 0\n",
    "    while (i < len(intervals) - 1):\n",
    "        if intervals[i+1][0] <= intervals[i][1] < intervals[i+1][1]:\n",
    "            intervals[i][1] = intervals[i+1][1]\n",
    "            intervals.remove(intervals[i+1])\n",
    "        elif intervals[i][1] >= intervals[i+1][1]:\n",
    "            intervals.remove(intervals[i+1])\n",
    "        else:\n",
    "            i += 1\n",
    "    return intervals"
   ]
  },
  {
   "cell_type": "markdown",
   "metadata": {},
   "source": [
    "**Тесты:**"
   ]
  },
  {
   "cell_type": "code",
   "execution_count": 209,
   "metadata": {},
   "outputs": [
    {
     "name": "stdout",
     "output_type": "stream",
     "text": [
      "[[1, 6], [8, 10], [15, 18]]\n",
      "[[1, 18]]\n",
      "[[1, 3]]\n",
      "[]\n"
     ]
    }
   ],
   "source": [
    "intervals = [[1,3],[2,6],[15,18],[8,10]]\n",
    "a = merge_intervals(intervals)\n",
    "print(a)\n",
    "assert a == [[1,6],[8,10],[15,18]]\n",
    "\n",
    "intervals = [[1,3],[2,15],[15,18],[8,10]]\n",
    "a = merge_intervals(intervals)\n",
    "print(a)\n",
    "assert a == [[1,18]]\n",
    "\n",
    "intervals = [[1,3]]\n",
    "a = merge_intervals(intervals)\n",
    "print(a)\n",
    "assert a == [[1,3]]\n",
    "\n",
    "intervals = []\n",
    "a = merge_intervals(intervals)\n",
    "print(a)\n",
    "assert a == []"
   ]
  },
  {
   "cell_type": "markdown",
   "metadata": {},
   "source": [
    "### Задача 3: Удалим дубликаты\n",
    "\n",
    "Дан список nums, отсортированный в неубывающем порядке. Ваша задача удалить дублирующиеся элементы **на месте** так, чтобы каждый уникальный элемент массива имел лишь одно вхождение. При этом относительный порядок следования элементов должен остаться без изменений."
   ]
  },
  {
   "cell_type": "code",
   "execution_count": 181,
   "metadata": {},
   "outputs": [],
   "source": [
    "def remove_duplicates(nums: list[int]) -> None:\n",
    "    i = 1\n",
    "    for x in nums:\n",
    "        while x in nums[i:]:\n",
    "            nums.remove(x)\n",
    "        i += 1\n",
    "    pass"
   ]
  },
  {
   "cell_type": "markdown",
   "metadata": {},
   "source": [
    "**Тесты:**"
   ]
  },
  {
   "cell_type": "code",
   "execution_count": 211,
   "metadata": {},
   "outputs": [],
   "source": [
    "nums = [1, 1, 1, 1, 2, 3, 3, 3, 4, 5, 6, 7, 9, 9, 9, 9, 9]\n",
    "remove_duplicates(nums)\n",
    "assert nums == [1, 2, 3, 4, 5, 6, 7, 9]\n",
    "\n",
    "nums = [9]\n",
    "remove_duplicates(nums)\n",
    "assert nums == [9]\n",
    "\n",
    "nums = []\n",
    "remove_duplicates(nums)\n",
    "assert nums == []"
   ]
  },
  {
   "cell_type": "markdown",
   "metadata": {},
   "source": [
    "### Задача 4: Уникальные пути\n",
    "\n",
    "Вам дано двумерное поле размера m X n. В левом верхнем углу (grid[0][0]) расположен робот. Робот старается добраться до правого нижнего угла (grid[-1][-1]). Робот может ходить только вниз или вправо. \n",
    "\n",
    "Свободные клетки и препятствия помечены в массиве grid 0 и 1 соответственно. Пути робот из верхнего левого угла в правый нижний угол могут проходить только через свободные клетки. \n",
    "\n",
    "Ваша задача - вычислить максимальное возможное количество уникальных путей из левого верхнего угла в правый нижний угол."
   ]
  },
  {
   "cell_type": "code",
   "execution_count": 177,
   "metadata": {},
   "outputs": [],
   "source": [
    "def compute_unique_pathes(grid:list[list[int]]) -> int:\n",
    "    current = [[0, 0]]\n",
    "    m = len(grid) - 1\n",
    "    n = len(grid[0]) - 1\n",
    "    while current:\n",
    "        x = current[0]\n",
    "        if(x[0] == m and x[1] == n):\n",
    "            break\n",
    "        if x[1] < n and grid[x[0]][x[1]+1] == 0:\n",
    "            current.append([x[0], x[1]+1])\n",
    "        if  x[0] < m and grid[x[0]+1][x[1]] == 0:\n",
    "            current.append([x[0]+1, x[1]])\n",
    "        current.remove(x)\n",
    "    answer = len(current)\n",
    "    return answer"
   ]
  },
  {
   "cell_type": "markdown",
   "metadata": {},
   "source": [
    "**Тесты:**"
   ]
  },
  {
   "cell_type": "code",
   "execution_count": 216,
   "metadata": {},
   "outputs": [],
   "source": [
    "grid = [\n",
    "    [0, 0, 0, 0, 0, 0],\n",
    "    [0, 1, 0, 1, 1, 0],\n",
    "    [0, 0, 0, 0, 0, 0],\n",
    "    [0, 1, 0, 1, 1, 0],\n",
    "    [0, 1, 0, 1, 1, 0],\n",
    "    [0, 0, 0, 0, 0, 0],\n",
    "]\n",
    "assert  compute_unique_pathes(grid) == 6\n",
    "grid = [\n",
    "    [0, 0, 0, 0, 0, 0],\n",
    "    [0, 1, 0, 1, 1, 0],\n",
    "    [0, 0, 0, 0, 0, 0],\n",
    "    [0, 1, 0, 1, 1, 0],\n",
    "    [0, 1, 0, 1, 1, 1],\n",
    "    [0, 0, 0, 0, 0, 0],\n",
    "]\n",
    "assert  compute_unique_pathes(grid) == 3\n",
    "grid = [\n",
    "    [0, 0, 0, 0, 0, 0],\n",
    "    [0, 1, 0, 1, 1, 0],\n",
    "    [0, 0, 1, 0, 0, 0],\n",
    "    [0, 1, 0, 1, 1, 0],\n",
    "    [0, 1, 0, 1, 1, 0],\n",
    "    [0, 0, 0, 0, 0, 0],\n",
    "]\n",
    "assert  compute_unique_pathes(grid) == 2\n",
    "grid = [\n",
    "    [1, 1, 0, 0, 0, 0],\n",
    "    [0, 1, 0, 1, 1, 0],\n",
    "    [0, 0, 1, 0, 0, 0],\n",
    "    [0, 1, 0, 1, 1, 0],\n",
    "    [0, 1, 0, 1, 1, 0],\n",
    "    [0, 0, 0, 0, 0, 0],\n",
    "]\n",
    "assert  compute_unique_pathes(grid) == 1"
   ]
  },
  {
   "cell_type": "markdown",
   "metadata": {},
   "source": [
    "### Задача 5: Игра в прыжки\n",
    "\n",
    "Вам дан список jumps, состоящий из целых чисел, индексирующийся с нуля и имеющий длину n. Вы начинаете движение с позиции jumps[0]. Каждый элемент списка jumps[i] представляет собой длину максимального прыжка вперед с позиции i: если вы находитесь в позиции i, вы можете прыжком переместиться на любую позицию от i до i + jumps[i].\n",
    "\n",
    "Ваша задача - определить минимальное число прыжков, необходимое для достижения позиции n - 1."
   ]
  },
  {
   "cell_type": "code",
   "execution_count": 167,
   "metadata": {},
   "outputs": [],
   "source": [
    "def jump(jumps: list[int]) -> int:\n",
    "    qeue = [[0, 0]]\n",
    "    n = len(jumps) - 1\n",
    "    while qeue and qeue[0][0] != n:\n",
    "        x = qeue[0]\n",
    "        for i in range(1, jumps[x[0]]+1):\n",
    "            t = [x[0] + i, x[1] + 1]\n",
    "            if t[0] not in [j[0] for j in qeue]:\n",
    "                qeue.append(t)\n",
    "        qeue.remove(x)\n",
    "    return qeue[0][1]"
   ]
  },
  {
   "cell_type": "markdown",
   "metadata": {},
   "source": [
    "**Тесты:**"
   ]
  },
  {
   "cell_type": "code",
   "execution_count": 169,
   "metadata": {},
   "outputs": [],
   "source": [
    "jumps = [2,3,1,1,4]\n",
    "assert jump(jumps) == 2\n",
    "jumps = [3, 4, 1, 1, 2, 1, 1]\n",
    "assert jump(jumps) == 3"
   ]
  }
 ],
 "metadata": {
  "kernelspec": {
   "display_name": "Python 3",
   "language": "python",
   "name": "python3"
  },
  "language_info": {
   "codemirror_mode": {
    "name": "ipython",
    "version": 3
   },
   "file_extension": ".py",
   "mimetype": "text/x-python",
   "name": "python",
   "nbconvert_exporter": "python",
   "pygments_lexer": "ipython3",
   "version": "3.11.5"
  },
  "orig_nbformat": 4
 },
 "nbformat": 4,
 "nbformat_minor": 2
}
